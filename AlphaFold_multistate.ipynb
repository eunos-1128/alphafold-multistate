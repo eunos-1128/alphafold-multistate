{
  "nbformat": 4,
  "nbformat_minor": 0,
  "metadata": {
    "colab": {
      "name": "AlphaFold-multistate",
      "provenance": [],
      "authorship_tag": "ABX9TyMXf6FPVfytlKwXoeNZKxFT"
    },
    "kernelspec": {
      "name": "python3",
      "display_name": "Python 3"
    },
    "language_info": {
      "name": "python"
    },
    "accelerator": "GPU"
  },
  "cells": [
    {
      "cell_type": "markdown",
      "metadata": {
        "id": "NLwfdQ1yL4_W"
      },
      "source": [
        "#Multi-state modeling of the GPCR using AlphaFold2\n",
        "It is a modified version of multi-state modeling protocol for the GPCR using the [ColabFold](https://colab.research.google.com/github/sokrypton/ColabFold/blob/main/AlphaFold2.ipynb) interface. The original protocol utlizes [AlphaFold2](https://www.nature.com/articles/s41586-021-03819-2) and slightly modified to model multiple states of the GPCR. Modeling is guided by templates selected from activation state-annotated GPCR databases. To effectively use structural template-based features, MSA-based features are further modified. For details, please check [our manuscript](https://www.biorxiv.org/content/10.1101/2021.11.26.470086v1) and [our GitHub repository](https://github.com/huhlim/alphafold-multistate). \n",
        "\n"
      ]
    },
    {
      "cell_type": "code",
      "metadata": {
        "cellView": "form",
        "id": "05vBORiIoBoo"
      },
      "source": [
        "#@title Input protein sequence, then hit `Runtime` -> `Run all`\n",
        "from google.colab import files\n",
        "import os.path\n",
        "import re\n",
        "import hashlib\n",
        "\n",
        "def add_hash(x,y):\n",
        "  return x+\"_\"+hashlib.sha1(y.encode()).hexdigest()[:5]\n",
        "\n",
        "query_sequence = 'MNNSTNSSNNSLALTSPYKTFEVVFIVLVAGSLSLVTIIGNILVMVSIKVNRHLQTVNNYFLFSLACADLIIGVFSMNLYTLYTVIGYWPLGPVVCDLWLALDYVVSNASVMNLLIISFDRYFCVTKPLTYPVKRTTKMAGMMIAAAWVLSFILWAPAILFWQFIVGVRTVEDGECYIQFFSNAAVTFGTAIAAFYLPVIIMTVLYWHISRASKSRIKKDKKEPVANQDPVSPSLVQGRIVKPNNNNMPSSDDGLEHNKIQNGKAPRDPVTENCVQGEEKESSNDSTSVSAVASNMRDDEITQDENTVSTSLGHSKDENSKQTCIRIGTKTPKSDSCTPTNTTVEVVGSSGQNGDEKQNIVARKIVKMTKQPAKKKPPPSREKKVTRTILAILLAFIITWAPYNVMVLINTFCAPCIPNTVWTIGYWLCYINSTINPACYALCNATFKKTFKHLLMCHYKNIGATR' #@param {type:\"string\"}\n",
        "\n",
        "# remove whitespaces\n",
        "query_sequence = \"\".join(query_sequence.split())\n",
        "\n",
        "jobname = 'ACM2_HUMAN' #@param {type:\"string\"}\n",
        "# remove whitespaces\n",
        "jobname = \"\".join(jobname.split())\n",
        "jobname = re.sub(r'\\W+', '', jobname)\n",
        "jobname = add_hash(jobname, query_sequence)\n",
        "\n",
        "activation_state = \"Active\" #@param [\"Inactive\", \"Active\"]\n",
        "\n",
        "\n",
        "with open(f\"{jobname}.csv\", \"w\") as text_file:\n",
        "    text_file.write(f\"id,sequence\\n{jobname},{query_sequence}\")\n",
        "\n",
        "queries_path=f\"{jobname}.csv\"\n",
        "\n",
        "# number of models to use\n",
        "#@markdown ---\n",
        "#@markdown ### Advanced settings\n",
        "msa_mode = \"MMseqs2 (UniRef+Environmental)\" #@param [\"MMseqs2 (UniRef+Environmental)\", \"MMseqs2 (UniRef only)\",\"single_sequence\"]\n",
        "model_type = \"auto\" \n",
        "num_models = 5 #@param [1,2,3,4,5] {type:\"raw\"}\n",
        "num_recycles = 3 #@param [1,3,6,12,24,48] {type:\"raw\"}\n",
        "use_amber = True #@param {type:\"boolean\"}\n",
        "use_templates = True\n",
        "\n",
        "#@markdown ---\n",
        "#@markdown ### Experimental options\n",
        "save_to_google_drive = False #@param {type:\"boolean\"}\n",
        "#@markdown ---\n",
        "#@markdown Don't forget to hit `Runtime` -> `Run all` after updating the form.\n",
        "\n",
        "# decide which a3m to use\n",
        "if msa_mode.startswith(\"MMseqs2\"):\n",
        "  a3m_file = f\"{jobname}.a3m\"\n",
        "else:\n",
        "  a3m_file = f\"{jobname}.single_sequence.a3m\"\n",
        "  with open(a3m_file, \"w\") as text_file:\n",
        "    text_file.write(\">1\\n%s\" % query_sequence)\n",
        "\n",
        "if save_to_google_drive:\n",
        "  from pydrive.drive import GoogleDrive\n",
        "  from pydrive.auth import GoogleAuth\n",
        "  from google.colab import auth\n",
        "  from oauth2client.client import GoogleCredentials\n",
        "  auth.authenticate_user()\n",
        "  gauth = GoogleAuth()\n",
        "  gauth.credentials = GoogleCredentials.get_application_default()\n",
        "  drive = GoogleDrive(gauth)\n",
        "  print(\"You are logged into Google Drive and are good to go!\")"
      ],
      "execution_count": 1,
      "outputs": []
    },
    {
      "cell_type": "code",
      "metadata": {
        "colab": {
          "base_uri": "https://localhost:8080/"
        },
        "cellView": "form",
        "id": "ITajaiSqpYAI",
        "outputId": "e96b987e-2104-4f6b-e991-080308d120e0"
      },
      "source": [
        "#@title Install dependencies\n",
        "%%bash -s $use_amber $use_templates\n",
        "\n",
        "set -e\n",
        "\n",
        "USE_AMBER=$1\n",
        "USE_TEMPLATES=$2\n",
        "\n",
        "if [ ! -f COLABFOLD_READY ]; then\n",
        "  # install dependencies\n",
        "  # We have to use \"--no-warn-conflicts\" because colab already has a lot preinstalled with requirements different to ours\n",
        "  pip install --no-warn-conflicts -q \"colabfold[alphafold] @ git+https://github.com/sokrypton/ColabFold\"\n",
        "  pip install --upgrade \"jax[cuda]<0.3.0\" -f https://storage.googleapis.com/jax-releases/jax_releases.html\n",
        "  touch COLABFOLD_READY\n",
        "fi\n",
        "\n",
        "# setup conda\n",
        "if [ ${USE_AMBER} == \"True\" ] || [ ${USE_TEMPLATES} == \"True\" ]; then\n",
        "  if [ ! -f CONDA_READY ]; then\n",
        "    wget -qnc https://repo.anaconda.com/miniconda/Miniconda3-latest-Linux-x86_64.sh\n",
        "    bash Miniconda3-latest-Linux-x86_64.sh -bfp /usr/local 2>&1 1>/dev/null\n",
        "    rm Miniconda3-latest-Linux-x86_64.sh\n",
        "    touch CONDA_READY\n",
        "  fi\n",
        "fi\n",
        "# setup template search\n",
        "if [ ${USE_TEMPLATES} == \"True\" ] && [ ! -f HH_READY ]; then\n",
        "  conda install -y -q -c conda-forge -c bioconda kalign2=2.04 hhsuite=3.3.0 python=3.7 2>&1 1>/dev/null\n",
        "  touch HH_READY\n",
        "fi\n",
        "# setup openmm for amber refinement\n",
        "if [ ${USE_AMBER} == \"True\" ] && [ ! -f AMBER_READY ]; then\n",
        "  conda install -y -q -c conda-forge openmm=7.5.1 python=3.7 pdbfixer 2>&1 1>/dev/null\n",
        "  wget -qnc https://raw.githubusercontent.com/deepmind/alphafold/main/docker/openmm.patch\n",
        "  (cd /usr/local/lib/python3.7/site-packages; patch -s -p0 < /content/openmm.patch)\n",
        "  wget -qnc https://git.scicore.unibas.ch/schwede/openstructure/-/raw/7102c63615b64735c4941278d92b554ec94415f8/modules/mol/alg/src/stereo_chemical_props.txt\n",
        "  touch AMBER_READY\n",
        "fi\n",
        "\n",
        "if [ ! -e colabfold_runner.py ]; then\n",
        "  wget -q https://raw.githubusercontent.com/huhlim/alphafold-multistate/main/structure_prediction/colabfold_runner.py\n",
        "fi"
      ],
      "execution_count": 2,
      "outputs": [
        {
          "output_type": "stream",
          "name": "stdout",
          "text": [
            "Looking in links: https://storage.googleapis.com/jax-releases/jax_releases.html\n",
            "Requirement already satisfied: jax[cuda]<0.3.0 in /usr/local/lib/python3.7/dist-packages (0.2.28)\n",
            "Requirement already satisfied: numpy>=1.19 in /usr/local/lib/python3.7/dist-packages (from jax[cuda]<0.3.0) (1.21.5)\n",
            "Requirement already satisfied: typing-extensions in /usr/local/lib/python3.7/dist-packages (from jax[cuda]<0.3.0) (3.10.0.2)\n",
            "Requirement already satisfied: opt-einsum in /usr/local/lib/python3.7/dist-packages (from jax[cuda]<0.3.0) (3.3.0)\n",
            "Requirement already satisfied: absl-py in /usr/local/lib/python3.7/dist-packages (from jax[cuda]<0.3.0) (0.13.0)\n",
            "Requirement already satisfied: scipy>=1.2.1 in /usr/local/lib/python3.7/dist-packages (from jax[cuda]<0.3.0) (1.4.1)\n",
            "Collecting jaxlib==0.1.76+cuda11.cudnn82\n",
            "  Downloading https://storage.googleapis.com/jax-releases/cuda11/jaxlib-0.1.76%2Bcuda11.cudnn82-cp37-none-manylinux2010_x86_64.whl (153.1 MB)\n",
            "Requirement already satisfied: flatbuffers<3.0,>=1.12 in /usr/local/lib/python3.7/dist-packages (from jaxlib==0.1.76+cuda11.cudnn82->jax[cuda]<0.3.0) (2.0)\n",
            "Requirement already satisfied: six in /usr/local/lib/python3.7/dist-packages (from absl-py->jax[cuda]<0.3.0) (1.15.0)\n",
            "Installing collected packages: jaxlib\n",
            "  Attempting uninstall: jaxlib\n",
            "    Found existing installation: jaxlib 0.3.2+cuda11.cudnn805\n",
            "    Uninstalling jaxlib-0.3.2+cuda11.cudnn805:\n",
            "      Successfully uninstalled jaxlib-0.3.2+cuda11.cudnn805\n",
            "Successfully installed jaxlib-0.1.76+cuda11.cudnn82\n",
            "\r  0%|          | 0/39 [00:00<?, ?it/s]\rExtracting : tzdata-2021e-hda174b7_0.conda:   0%|          | 0/39 [00:00<?, ?it/s]\rExtracting : cryptography-36.0.0-py39h9ce1e76_0.conda:   3%|▎         | 1/39 [00:00<00:07,  5.31it/s]\rExtracting : cryptography-36.0.0-py39h9ce1e76_0.conda:   5%|▌         | 2/39 [00:00<00:03, 10.60it/s]\rExtracting : libstdcxx-ng-9.3.0-hd4cf53a_17.conda:   5%|▌         | 2/39 [00:00<00:03, 10.60it/s]    \rExtracting : pyopenssl-21.0.0-pyhd3eb1b0_1.conda:   8%|▊         | 3/39 [00:00<00:03, 10.60it/s] \rExtracting : urllib3-1.26.7-pyhd3eb1b0_0.conda:  10%|█         | 4/39 [00:00<00:03, 10.60it/s]  \rExtracting : pycparser-2.21-pyhd3eb1b0_0.conda:  13%|█▎        | 5/39 [00:00<00:03, 10.60it/s]\rExtracting : pycparser-2.21-pyhd3eb1b0_0.conda:  15%|█▌        | 6/39 [00:00<00:01, 22.93it/s]\rExtracting : tqdm-4.62.3-pyhd3eb1b0_1.conda:  15%|█▌        | 6/39 [00:00<00:01, 22.93it/s]   \rExtracting : yaml-0.2.5-h7b6447c_0.conda:  18%|█▊        | 7/39 [00:00<00:01, 22.93it/s]   \rExtracting : requests-2.27.1-pyhd3eb1b0_0.conda:  21%|██        | 8/39 [00:00<00:01, 22.93it/s]\rExtracting : ncurses-6.3-h7f8727e_2.conda:  23%|██▎       | 9/39 [00:00<00:01, 22.93it/s]      \rExtracting : ncurses-6.3-h7f8727e_2.conda:  26%|██▌       | 10/39 [00:00<00:01, 26.03it/s]\rExtracting : libgomp-9.3.0-h5101ec6_17.conda:  26%|██▌       | 10/39 [00:00<00:01, 26.03it/s]\rExtracting : libffi-3.3-he6710b0_2.conda:  28%|██▊       | 11/39 [00:00<00:01, 26.03it/s]    \rExtracting : ruamel_yaml-0.15.100-py39h27cfd23_0.conda:  31%|███       | 12/39 [00:00<00:01, 26.03it/s]\rExtracting : charset-normalizer-2.0.4-pyhd3eb1b0_0.conda:  33%|███▎      | 13/39 [00:00<00:00, 26.03it/s]\rExtracting : conda-4.11.0-py39h06a4308_0.conda:  36%|███▌      | 14/39 [00:01<00:00, 26.03it/s]          \rExtracting : conda-4.11.0-py39h06a4308_0.conda:  38%|███▊      | 15/39 [00:01<00:02, 10.03it/s]\rExtracting : ca-certificates-2021.10.26-h06a4308_2.conda:  38%|███▊      | 15/39 [00:01<00:02, 10.03it/s]\rExtracting : setuptools-58.0.4-py39h06a4308_0.conda:  41%|████      | 16/39 [00:01<00:02, 10.03it/s]     \rExtracting : python-3.9.7-h12debd9_1.conda:  44%|████▎     | 17/39 [00:01<00:02, 10.03it/s]         \rExtracting : python-3.9.7-h12debd9_1.conda:  46%|████▌     | 18/39 [00:01<00:01, 12.33it/s]\rExtracting : ld_impl_linux-64-2.35.1-h7274673_9.conda:  46%|████▌     | 18/39 [00:01<00:01, 12.33it/s]\rExtracting : xz-5.2.5-h7b6447c_0.conda:  49%|████▊     | 19/39 [00:01<00:01, 12.33it/s]               \rExtracting : openssl-1.1.1m-h7f8727e_0.conda:  51%|█████▏    | 20/39 [00:01<00:01, 12.33it/s]\rExtracting : _libgcc_mutex-0.1-main.conda:  54%|█████▍    | 21/39 [00:01<00:01, 12.33it/s]   \rExtracting : certifi-2021.10.8-py39h06a4308_2.conda:  56%|█████▋    | 22/39 [00:01<00:01, 12.33it/s]\rExtracting : certifi-2021.10.8-py39h06a4308_2.conda:  59%|█████▉    | 23/39 [00:01<00:00, 17.82it/s]\rExtracting : wheel-0.37.1-pyhd3eb1b0_0.conda:  59%|█████▉    | 23/39 [00:01<00:00, 17.82it/s]       \rExtracting : pycosat-0.6.3-py39h27cfd23_0.conda:  62%|██████▏   | 24/39 [00:01<00:00, 17.82it/s]\rExtracting : tk-8.6.11-h1ccaba5_0.conda:  64%|██████▍   | 25/39 [00:01<00:00, 17.82it/s]        \rExtracting : conda-package-handling-1.7.3-py39h27cfd23_1.conda:  67%|██████▋   | 26/39 [00:01<00:00, 17.82it/s]\rExtracting : conda-package-handling-1.7.3-py39h27cfd23_1.conda:  69%|██████▉   | 27/39 [00:01<00:00, 17.45it/s]\rExtracting : cffi-1.15.0-py39hd667e15_1.conda:  69%|██████▉   | 27/39 [00:01<00:00, 17.45it/s]                 \rExtracting : brotlipy-0.7.0-py39h27cfd23_1003.conda:  72%|███████▏  | 28/39 [00:01<00:00, 17.45it/s]\rExtracting : idna-3.3-pyhd3eb1b0_0.conda:  74%|███████▍  | 29/39 [00:01<00:00, 17.45it/s]           \rExtracting : sqlite-3.37.0-hc218d9a_0.conda:  77%|███████▋  | 30/39 [00:01<00:00, 17.45it/s]\rExtracting : zlib-1.2.11-h7f8727e_4.conda:  79%|███████▉  | 31/39 [00:01<00:00, 17.45it/s]  \rExtracting : pip-21.2.4-py39h06a4308_0.conda:  82%|████████▏ | 32/39 [00:01<00:00, 17.45it/s]\rExtracting : pip-21.2.4-py39h06a4308_0.conda:  85%|████████▍ | 33/39 [00:01<00:00, 24.06it/s]\rExtracting : readline-8.1.2-h7f8727e_1.conda:  85%|████████▍ | 33/39 [00:01<00:00, 24.06it/s]\rExtracting : six-1.16.0-pyhd3eb1b0_0.conda:  87%|████████▋ | 34/39 [00:01<00:00, 24.06it/s]  \rExtracting : pysocks-1.7.1-py39h06a4308_0.conda:  90%|████████▉ | 35/39 [00:01<00:00, 24.06it/s]\rExtracting : conda-content-trust-0.1.1-pyhd3eb1b0_0.conda:  92%|█████████▏| 36/39 [00:01<00:00, 24.06it/s]\rExtracting : libgcc-ng-9.3.0-h5101ec6_17.conda:  95%|█████████▍| 37/39 [00:02<00:00, 24.06it/s]           \rExtracting : libgcc-ng-9.3.0-h5101ec6_17.conda:  97%|█████████▋| 38/39 [00:02<00:00, 24.74it/s]\rExtracting : _openmp_mutex-4.5-1_gnu.tar.bz2:  97%|█████████▋| 38/39 [00:02<00:00, 24.74it/s]  \r                                                                                             \r"
          ]
        }
      ]
    },
    {
      "cell_type": "code",
      "metadata": {
        "cellView": "form",
        "id": "dBA64dWqqP_x"
      },
      "source": [
        "#@title Download activation state-annotated databases\n",
        "%%bash -s $activation_state\n",
        "\n",
        "set -e\n",
        "\n",
        "STATE=$1\n",
        "if [[ ! -e gpcr100/GPCR100.${STATE}_a3m.ffindex ]]; then\n",
        "    mkdir -p gpcr100\n",
        "    wget -q \"https://zenodo.org/record/5745217/files/GPCR100.${STATE}.tgz\"\n",
        "    tar xzf GPCR100.${STATE}.tgz -C gpcr100\n",
        "\n",
        "    mkdir -p gpcr100/mmcif\n",
        "    wget -q \"https://zenodo.org/record/5745217/files/cif.${STATE}.tgz\"\n",
        "    tar xzf cif.${STATE}.tgz -C gpcr100\n",
        "    mv gpcr100/cif.${STATE}/*.cif gpcr100/mmcif/\n",
        "fi"
      ],
      "execution_count": 4,
      "outputs": []
    },
    {
      "cell_type": "code",
      "metadata": {
        "cellView": "form",
        "id": "EvITwL-rrKzB",
        "colab": {
          "base_uri": "https://localhost:8080/"
        },
        "outputId": "8b1170a3-1075-4704-8a35-6b0a6cc150c4"
      },
      "source": [
        "#@title Prepare Prediction\n",
        "\n",
        "import sys\n",
        "\n",
        "from colabfold.download import download_alphafold_params, default_data_dir\n",
        "from colabfold.utils import setup_logging\n",
        "from colabfold.batch import get_queries, set_model_type\n",
        "\n",
        "# customized ColabFold runner\n",
        "from colabfold_runner import run\n",
        "\n",
        "from pathlib import Path\n",
        "\n",
        "# For some reason we need that to get pdbfixer to import\n",
        "if use_amber and '/usr/local/lib/python3.7/site-packages/' not in sys.path:\n",
        "    sys.path.insert(0, '/usr/local/lib/python3.7/site-packages/')\n",
        "\n",
        "result_dir=\".\"\n",
        "setup_logging(Path(\".\").joinpath(\"log.txt\"))\n",
        "queries, is_complex = get_queries(queries_path)\n",
        "model_type = set_model_type(is_complex, model_type)\n",
        "download_alphafold_params(model_type, Path(\".\"))"
      ],
      "execution_count": 3,
      "outputs": [
        {
          "output_type": "stream",
          "name": "stderr",
          "text": [
            "Downloading alphafold2 weights to .: 100%|██████████| 3.47G/3.47G [00:20<00:00, 179MB/s]\n"
          ]
        }
      ]
    },
    {
      "cell_type": "code",
      "metadata": {
        "cellView": "form",
        "id": "Yoeqxk_11I7_",
        "colab": {
          "base_uri": "https://localhost:8080/"
        },
        "outputId": "b5cc0493-1503-43c7-b779-09817684bf7a"
      },
      "source": [
        "#@title Run Predictions\n",
        "run(\n",
        "    queries=queries,\n",
        "    result_dir=result_dir,\n",
        "    activation_state=activation_state,\n",
        "    use_templates=use_templates,\n",
        "    use_amber=use_amber,\n",
        "    msa_mode=msa_mode,    \n",
        "    model_type=model_type,\n",
        "    num_models=num_models,\n",
        "    num_recycles=num_recycles,\n",
        "    model_order=[1,2],\n",
        "    is_complex=is_complex,\n",
        "    data_dir=Path(\".\"),\n",
        "    keep_existing_results=False,\n",
        "    recompile_padding=1.0,\n",
        "    rank_mode=\"auto\",\n",
        "    pair_mode=\"unpaired+paired\",\n",
        "    stop_at_score=float(100),\n",
        ")"
      ],
      "execution_count": null,
      "outputs": [
        {
          "output_type": "stream",
          "name": "stdout",
          "text": [
            "b532e910b15434f707f0b7460abc25c70fcb9b26\n",
            "2022-03-31 16:00:46,145 Running colabfold 1.2.0 (b532e910b15434f707f0b7460abc25c70fcb9b26)\n",
            "2022-03-31 16:00:46,148 Found 8 citations for tools or databases\n",
            "2022-03-31 16:00:52,470 Query 1/1: ACM2_HUMAN_460ee (length 466)\n"
          ]
        },
        {
          "output_type": "stream",
          "name": "stderr",
          "text": [
            "COMPLETE: 100%|██████████| 150/150 [elapsed: 00:02 remaining: 00:00]\n"
          ]
        },
        {
          "output_type": "stream",
          "name": "stdout",
          "text": [
            "2022-03-31 16:01:15,694 Running model_1\n"
          ]
        }
      ]
    },
    {
      "cell_type": "code",
      "metadata": {
        "cellView": "form",
        "id": "OpAaCRto3j7G"
      },
      "source": [
        "#@title Display 3D structure {run: \"auto\"}\n",
        "import py3Dmol\n",
        "import glob\n",
        "import matplotlib.pyplot as plt\n",
        "rank_num = 1 #@param [\"1\", \"2\"] {type:\"raw\"}\n",
        "color = \"lDDT\" #@param [\"chain\", \"lDDT\", \"rainbow\"]\n",
        "show_sidechains = False #@param {type:\"boolean\"}\n",
        "show_mainchains = False #@param {type:\"boolean\"}\n",
        "\n",
        "jobname_prefix = \".custom\" if msa_mode == \"custom\" else \"\"\n",
        "if use_amber:\n",
        "  pdb_filename = f\"{jobname}{jobname_prefix}_relaxed_model_*_rank_{rank_num}.pdb\"\n",
        "else:\n",
        "  pdb_filename = f\"{jobname}{jobname_prefix}_unrelaxed_model_*_rank_{rank_num}.pdb\"\n",
        "\n",
        "pdb_file = glob.glob(pdb_filename)\n",
        "\n",
        "def show_pdb(rank_num=1, show_sidechains=False, show_mainchains=False, color=\"lDDT\"):\n",
        "  model_name = f\"rank_{rank_num}\"\n",
        "  if use_amber:\n",
        "    pdb_filename = f\"{jobname}{jobname_prefix}_relaxed_{model_name}.pdb\"\n",
        "  else:\n",
        "    pdb_filename = f\"{jobname}{jobname_prefix}_unrelaxed_{model_name}.pdb\"\n",
        "\n",
        "  view = py3Dmol.view(js='https://3dmol.org/build/3Dmol.js',)\n",
        "  view.addModel(open(pdb_file[0],'r').read(),'pdb')\n",
        "\n",
        "  if color == \"lDDT\":\n",
        "    view.setStyle({'cartoon': {'colorscheme': {'prop':'b','gradient': 'roygb','min':50,'max':90}}})\n",
        "  elif color == \"rainbow\":\n",
        "    view.setStyle({'cartoon': {'color':'spectrum'}})\n",
        "  elif color == \"chain\":\n",
        "    for n,chain,color in zip(range(homooligomer),list(\"ABCDEFGH\"),\n",
        "                     [\"lime\",\"cyan\",\"magenta\",\"yellow\",\"salmon\",\"white\",\"blue\",\"orange\"]):\n",
        "       view.setStyle({'chain':chain},{'cartoon': {'color':color}})\n",
        "  if show_sidechains:\n",
        "    BB = ['C','O','N']\n",
        "    view.addStyle({'and':[{'resn':[\"GLY\",\"PRO\"],'invert':True},{'atom':BB,'invert':True}]},\n",
        "                        {'stick':{'colorscheme':f\"WhiteCarbon\",'radius':0.3}})\n",
        "    view.addStyle({'and':[{'resn':\"GLY\"},{'atom':'CA'}]},\n",
        "                        {'sphere':{'colorscheme':f\"WhiteCarbon\",'radius':0.3}})\n",
        "    view.addStyle({'and':[{'resn':\"PRO\"},{'atom':['C','O'],'invert':True}]},\n",
        "                        {'stick':{'colorscheme':f\"WhiteCarbon\",'radius':0.3}})  \n",
        "  if show_mainchains:\n",
        "    BB = ['C','O','N','CA']\n",
        "    view.addStyle({'atom':BB},{'stick':{'colorscheme':f\"WhiteCarbon\",'radius':0.3}})\n",
        "\n",
        "  view.zoomTo()\n",
        "  return view\n",
        "\n",
        "\n",
        "show_pdb(rank_num,show_sidechains, show_mainchains, color).show()\n",
        "\n",
        "\n"
      ],
      "execution_count": null,
      "outputs": []
    },
    {
      "cell_type": "code",
      "metadata": {
        "cellView": "form",
        "id": "6V9MGdmxAzco"
      },
      "source": [
        "#@title Plots {run: \"auto\"}\n",
        "from IPython.display import display, HTML\n",
        "import base64\n",
        "from html import escape\n",
        "\n",
        "# see: https://stackoverflow.com/a/53688522\n",
        "def image_to_data_url(filename):\n",
        "  ext = filename.split('.')[-1]\n",
        "  prefix = f'data:image/{ext};base64,'\n",
        "  with open(filename, 'rb') as f:\n",
        "    img = f.read()\n",
        "  return prefix + base64.b64encode(img).decode('utf-8')\n",
        "\n",
        "pae = image_to_data_url(f\"{jobname}{jobname_prefix}_PAE.png\")\n",
        "cov = image_to_data_url(f\"{jobname}{jobname_prefix}_coverage.png\")\n",
        "plddt = image_to_data_url(f\"{jobname}{jobname_prefix}_plddt.png\")\n",
        "display(HTML(f\"\"\"\n",
        "<style>\n",
        "  img {{\n",
        "    float:left;\n",
        "  }}\n",
        "  .full {{\n",
        "    max-width:100%;\n",
        "  }}\n",
        "  .half {{\n",
        "    max-width:50%;\n",
        "  }}\n",
        "  @media (max-width:640px) {{\n",
        "    .half {{\n",
        "      max-width:100%;\n",
        "    }}\n",
        "  }}\n",
        "</style>\n",
        "<div style=\"max-width:90%; padding:2em;\">\n",
        "  <h1>Plots for {escape(jobname)}</h1>\n",
        "  <img src=\"{pae}\" class=\"full\" />\n",
        "  <img src=\"{cov}\" class=\"half\" />\n",
        "  <img src=\"{plddt}\" class=\"half\" />\n",
        "</div>\n",
        "\"\"\"))\n"
      ],
      "execution_count": null,
      "outputs": []
    },
    {
      "cell_type": "code",
      "metadata": {
        "cellView": "form",
        "id": "NLNwQT9VA0PQ"
      },
      "source": [
        "#@title Package and download results\n",
        "#@markdown If you are having issues downloading the result archive, try disabling your adblocker and run this cell again. If that fails click on the little folder icon to the left, navigate to file: `jobname.result.zip`, right-click and select \\\"Download\\\" (see [screenshot](https://pbs.twimg.com/media/E6wRW2lWUAEOuoe?format=jpg&name=small)).\n",
        "\n",
        "!zip -FSr $jobname\".result.zip\" config.json $jobname\".a3m\" $jobname*\"relaxed_model_\"*\".pdb\" $jobname*\"_coverage_lDDT.png\" \"cite.bibtex\" $jobname*\".png\"\n",
        "files.download(f\"{jobname}.result.zip\")\n",
        "\n",
        "if save_to_google_drive == True and drive:\n",
        "  uploaded = drive.CreateFile({'title': f\"{jobname}.result.zip\"})\n",
        "  uploaded.SetContentFile(f\"{jobname}.result.zip\")\n",
        "  uploaded.Upload()\n",
        "  print(f\"Uploaded {jobname}.result.zip to Google Drive with ID {uploaded.get('id')}\")"
      ],
      "execution_count": null,
      "outputs": []
    },
    {
      "cell_type": "markdown",
      "metadata": {
        "id": "YvLvduBDA5A0"
      },
      "source": [
        "# Instructions <a name=\"Instructions\"></a>\n",
        "This Colab notebook is mostly based on [ColabFold](https://colab.research.google.com/github/sokrypton/ColabFold/blob/main/AlphaFold2.ipynb). We (Lim Heo and Michael Feig) slightly modified the notebook for multi-state modeling of the GPCR. \n",
        "\n",
        "\n",
        "**Quick start**\n",
        "1. Paste your protein sequence(s) in the input field.\n",
        "2. Specify the **activation state** for modeling. \n",
        "3. Press \"Runtime\" -> \"Run all\".\n",
        "\n",
        "**Result zip file contents**\n",
        "1. PDB formatted structures sorted by avg. pIDDT and complexes are sorted by pTMscore. (unrelaxed and relaxed if `use_amber` is enabled). \n",
        "2. Plots of the model quality.\n",
        "3. Plots of the MSA coverage.\n",
        "4. Parameter log file.\n",
        "5. A3M formatted input MSA.\n",
        "6. BibTeX file with citations for all used tools and databases.\n",
        "\n",
        "At the end of the job a download modal box will pop up with a `jobname.result.zip` file. Additionally, if the `save_to_google_drive` option was selected, the `jobname.result.zip` will be uploaded to your Google Drive.\n",
        "\n",
        "**Troubleshooting**\n",
        "* Check that the runtime type is set to GPU at \"Runtime\" -> \"Change runtime type\".\n",
        "* Try to restart the session \"Runtime\" -> \"Factory reset runtime\".\n",
        "* Check your input sequence.\n",
        "\n",
        "**Known issues**\n",
        "* Google Colab assigns different types of GPUs with varying amount of memory. Some might not have enough memory to predict the structure for a long sequence.\n",
        "* Your browser can block the pop-up for downloading the result file. You can choose the `save_to_google_drive` option to upload to Google Drive instead or manually download the result file: Click on the little folder icon to the left, navigate to file: `jobname.result.zip`, right-click and select \\\"Download\\\" (see [screenshot](https://pbs.twimg.com/media/E6wRW2lWUAEOuoe?format=jpg&name=small)).\n",
        "\n",
        "**Limitations**\n",
        "* Computing resources: MMseqs2 API can handle ~20-50k requests per day.\n",
        "* MSAs: MMseqs2 is very precise and sensitive but might find less hits compared to HHblits/HMMer searched against BFD or Mgnify.\n",
        "\n",
        "**Description of the plots**\n",
        "*   **Predicted lDDT per position** - model confidence (out of 100) at each position. The higher the better.\n",
        "*   **Predicted Alignment Error** - For homooligomers, this could be a useful metric to assess how confident the model is about the interface. The lower the better.\n",
        "\n",
        "\n",
        "**Acknowledgments**\n",
        "- [DeepMind](https://github.com/deepmind/alphafold) for the development and sharing the excellent protein structure prediction method, AlphaFold2. \n",
        "- [ColabFold](https://github.com/sokrypton/ColabFold) for providing the valuable interface for running AlphaFold. \n",
        "- [Söding Lab](https://www.mpibpc.mpg.de/soeding) for providing the computational resources for the MMseqs2 server.\n",
        "\n",
        "\n"
      ]
    }
  ]
}